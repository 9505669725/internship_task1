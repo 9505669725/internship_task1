{
 "cells": [
  {
   "cell_type": "markdown",
   "id": "f3fea89e",
   "metadata": {},
   "source": [
    "# Shuffle the Array"
   ]
  },
  {
   "cell_type": "code",
   "execution_count": 1,
   "id": "cecb56ba",
   "metadata": {},
   "outputs": [
    {
     "name": "stdout",
     "output_type": "stream",
     "text": [
      "original Array: [1 2 3 4 5 6]\n",
      "shaffle array: [6 1 3 4 2 5]\n"
     ]
    }
   ],
   "source": [
    "import numpy as np\n",
    "#define Array\n",
    "arr=np.array([1,2,3,4,5,6])\n",
    "print(\"original Array:\",arr)\n",
    "\n",
    "#shuffled\n",
    "np.random.shuffle(arr)\n",
    "print('shaffle array:',arr)"
   ]
  },
  {
   "cell_type": "code",
   "execution_count": null,
   "id": "97ce90db",
   "metadata": {},
   "outputs": [],
   "source": []
  }
 ],
 "metadata": {
  "kernelspec": {
   "display_name": "Python 3 (ipykernel)",
   "language": "python",
   "name": "python3"
  },
  "language_info": {
   "codemirror_mode": {
    "name": "ipython",
    "version": 3
   },
   "file_extension": ".py",
   "mimetype": "text/x-python",
   "name": "python",
   "nbconvert_exporter": "python",
   "pygments_lexer": "ipython3",
   "version": "3.9.12"
  }
 },
 "nbformat": 4,
 "nbformat_minor": 5
}
