{
 "cells": [
  {
   "cell_type": "markdown",
   "id": "9ef30c46",
   "metadata": {},
   "source": [
    "# Greatest Number of Candies"
   ]
  },
  {
   "cell_type": "code",
   "execution_count": 16,
   "id": "927671ac",
   "metadata": {},
   "outputs": [],
   "source": [
    " def KidsWithCandies(candies,extra):\n",
    "    list=[];\n",
    "    max=min(int);\n",
    "    for i in range(0,len(candies)-1):\n",
    "        max=max(max,candies[i]);\n",
    "    for i in range(0,len(candies)-1): \n",
    "        if candies[i]+extra>=max:\n",
    "            list.add(true);\n",
    "        else:\n",
    "            list.add(false);\n",
    "    return list;\n"
   ]
  },
  {
   "cell_type": "code",
   "execution_count": null,
   "id": "89ac196d",
   "metadata": {},
   "outputs": [],
   "source": [
    "KidsWithCandies(([[2,3,5,1,3]],3))\n"
   ]
  },
  {
   "cell_type": "code",
   "execution_count": null,
   "id": "2d4130b5",
   "metadata": {},
   "outputs": [],
   "source": [
    "Am trying but not get the answer please solve my issue"
   ]
  }
 ],
 "metadata": {
  "kernelspec": {
   "display_name": "Python 3 (ipykernel)",
   "language": "python",
   "name": "python3"
  },
  "language_info": {
   "codemirror_mode": {
    "name": "ipython",
    "version": 3
   },
   "file_extension": ".py",
   "mimetype": "text/x-python",
   "name": "python",
   "nbconvert_exporter": "python",
   "pygments_lexer": "ipython3",
   "version": "3.9.12"
  }
 },
 "nbformat": 4,
 "nbformat_minor": 5
}
