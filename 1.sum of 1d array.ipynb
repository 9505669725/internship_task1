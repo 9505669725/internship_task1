{
 "cells": [
  {
   "cell_type": "markdown",
   "id": "5293ff56",
   "metadata": {},
   "source": [
    "# Running sum of 1d Array"
   ]
  },
  {
   "cell_type": "code",
   "execution_count": 4,
   "id": "28050a27",
   "metadata": {},
   "outputs": [
    {
     "name": "stdout",
     "output_type": "stream",
     "text": [
      "[3, 7, 14, 22, 28, 33, 42]\n"
     ]
    }
   ],
   "source": [
    "def add(marks):\n",
    "    n=len(nums)\n",
    "    x=[nums[0]]\n",
    "    for i in range(1,n):\n",
    "        nums[i]+=nums[i-1]\n",
    "        x.append(nums[i])\n",
    "    return x\n",
    "nums=[3,4,7,8,6,5,9]\n",
    "print(add(nums))"
   ]
  },
  {
   "cell_type": "code",
   "execution_count": null,
   "id": "cbb8b00b",
   "metadata": {},
   "outputs": [],
   "source": []
  }
 ],
 "metadata": {
  "kernelspec": {
   "display_name": "Python 3 (ipykernel)",
   "language": "python",
   "name": "python3"
  },
  "language_info": {
   "codemirror_mode": {
    "name": "ipython",
    "version": 3
   },
   "file_extension": ".py",
   "mimetype": "text/x-python",
   "name": "python",
   "nbconvert_exporter": "python",
   "pygments_lexer": "ipython3",
   "version": "3.9.12"
  }
 },
 "nbformat": 4,
 "nbformat_minor": 5
}
